{
  "nbformat": 4,
  "nbformat_minor": 0,
  "metadata": {
    "colab": {
      "provenance": []
    },
    "kernelspec": {
      "name": "python3",
      "display_name": "Python 3"
    },
    "language_info": {
      "name": "python"
    }
  },
  "cells": [
    {
      "cell_type": "code",
      "execution_count": 6,
      "metadata": {
        "id": "e9C45xSoyxnd"
      },
      "outputs": [],
      "source": [
        "import pandas as pd\n",
        "import numpy as np\n",
        "import seaborn as sns\n",
        "from scipy.stats.mstats import winsorize"
      ]
    },
    {
      "cell_type": "code",
      "source": [
        "# Opt in to future behavior to avoid downcasting warnings\n",
        "pd.set_option('future.no_silent_downcasting', True)\n",
        "INPUT_FILE = 'masked_kiva_loans.csv'\n",
        "OUTPUT_FILE = 'kiva_loans_cleaned_ml_ready.csv'"
      ],
      "metadata": {
        "id": "5_XDYOOa3R1L"
      },
      "execution_count": 7,
      "outputs": []
    },
    {
      "cell_type": "code",
      "source": [
        "print(\"Loading data...\")\n",
        "df = pd.read_csv(INPUT_FILE, low_memory=False)\n",
        "print(f\"Initial shape: {df.shape}\\n\")"
      ],
      "metadata": {
        "colab": {
          "base_uri": "https://localhost:8080/"
        },
        "id": "JbTiYH2_z_Ue",
        "outputId": "77a0810c-02fc-4a3b-98c5-f8f4a90a5701"
      },
      "execution_count": 8,
      "outputs": [
        {
          "output_type": "stream",
          "name": "stdout",
          "text": [
            "Loading data...\n",
            "Initial shape: (33561, 11)\n",
            "\n"
          ]
        }
      ]
    },
    {
      "cell_type": "code",
      "source": [
        "# 1. Initial Assessment\n",
        "print(\"Initial missing values:\")\n",
        "print(df.isnull().sum().sort_values(ascending=False)[:10], \"\\n\")\n"
      ],
      "metadata": {
        "colab": {
          "base_uri": "https://localhost:8080/"
        },
        "id": "-SRHymjo0S0C",
        "outputId": "8976fca9-f2b2-4572-ceef-b97e64a5d895"
      },
      "execution_count": 9,
      "outputs": [
        {
          "output_type": "stream",
          "name": "stdout",
          "text": [
            "Initial missing values:\n",
            "partner_id            634\n",
            "borrower_genders      195\n",
            "id                      0\n",
            "loan_amount             0\n",
            "funded_amount           0\n",
            "country                 0\n",
            "sector                  0\n",
            "term_in_months          0\n",
            "lender_count            0\n",
            "repayment_interval      0\n",
            "dtype: int64 \n",
            "\n"
          ]
        }
      ]
    },
    {
      "cell_type": "markdown",
      "source": [
        "# 3. Data Cleaning\n",
        "# 3.1 Drop duplicate rows if any"
      ],
      "metadata": {
        "id": "JzWkxUGX0iU4"
      }
    },
    {
      "cell_type": "code",
      "source": [
        "print(\"Dropping duplicates...\")\n",
        "prev_size = len(df)\n",
        "df.drop_duplicates(inplace=True)\n",
        "print(f\"Removed {prev_size - len(df)} duplicates\\n\")"
      ],
      "metadata": {
        "colab": {
          "base_uri": "https://localhost:8080/"
        },
        "id": "8zoHw7Q-0hsx",
        "outputId": "8acf4699-5e65-4fd8-bbb8-287a15654d30"
      },
      "execution_count": 10,
      "outputs": [
        {
          "output_type": "stream",
          "name": "stdout",
          "text": [
            "Dropping duplicates...\n",
            "Removed 0 duplicates\n",
            "\n"
          ]
        }
      ]
    },
    {
      "cell_type": "code",
      "source": [
        "# 3. Column Selection (Keep only relevant columns)\n",
        "keep_cols = [\n",
        "    'id', 'funded_amount', 'loan_amount', 'sector', 'country',\n",
        "    'partner_id', 'term_in_months', 'lender_count', 'borrower_genders',\n",
        "    'repayment_interval', 'date'\n",
        "]\n",
        "df = df[keep_cols]"
      ],
      "metadata": {
        "id": "fl5I3sH7TUHA"
      },
      "execution_count": 11,
      "outputs": []
    },
    {
      "cell_type": "markdown",
      "source": [
        "# 3.2 Handle missing values\n",
        "# - If columns have too many missing values, consider dropping\n",
        "# - Otherwise impute or fill"
      ],
      "metadata": {
        "id": "TiGGtCD200S6"
      }
    },
    {
      "cell_type": "code",
      "source": [
        "print(\"Handling missing values:\")"
      ],
      "metadata": {
        "colab": {
          "base_uri": "https://localhost:8080/"
        },
        "id": "by4MaqfV02we",
        "outputId": "bf0b1cd0-bed0-4b7f-a609-b6f0c5250397"
      },
      "execution_count": 12,
      "outputs": [
        {
          "output_type": "stream",
          "name": "stdout",
          "text": [
            "Handling missing values:\n"
          ]
        }
      ]
    },
    {
      "cell_type": "markdown",
      "source": [
        "#  Process borrower_genders column: count number of female and male"
      ],
      "metadata": {
        "id": "feWxqgpz8R_1"
      }
    },
    {
      "cell_type": "code",
      "source": [
        "# Convert to lowercase and handle missing values\n",
        "df['borrower_genders'] = df['borrower_genders'].str.lower().fillna('unknown')\n",
        "\n",
        "# Split genders into a list\n",
        "genders = df['borrower_genders'].str.split(',')\n",
        "\n",
        "# Count females and males\n",
        "df['female_count'] = genders.apply(lambda x: x.count('female') if isinstance(x, list) else 0)\n",
        "df['male_count'] = genders.apply(lambda x: x.count('male') if isinstance(x, list) else 0)\n",
        "\n",
        "# Total borrowers\n",
        "df['total_borrowers'] = df['female_count'] + df['male_count']"
      ],
      "metadata": {
        "id": "fAiAKds98bIi"
      },
      "execution_count": 13,
      "outputs": []
    },
    {
      "cell_type": "code",
      "source": [
        "# After creating the new columns\n",
        "df = df.drop(columns=['borrower_genders'])"
      ],
      "metadata": {
        "id": "xleBrlFmRAzc"
      },
      "execution_count": 14,
      "outputs": []
    },
    {
      "cell_type": "markdown",
      "source": [
        "# For numerical columns, fill with median"
      ],
      "metadata": {
        "id": "rkmyEEhj1UgQ"
      }
    },
    {
      "cell_type": "code",
      "source": [
        "num_cols = ['funded_amount', 'loan_amount', 'term_in_months', 'lender_count']\n",
        "for col in num_cols:\n",
        "    df[col] = df[col].fillna(df[col].median())\n",
        "    # Convert to appropriate numeric types\n",
        "    if col in ['lender_count', 'term_in_months']:\n",
        "        df[col] = pd.to_numeric(df[col], downcast='integer')\n",
        "    else:\n",
        "        df[col] = pd.to_numeric(df[col], downcast='float')"
      ],
      "metadata": {
        "id": "3wpJRGLP1YgH"
      },
      "execution_count": 15,
      "outputs": []
    },
    {
      "cell_type": "markdown",
      "source": [
        "# For categorical columns, fill with mode"
      ],
      "metadata": {
        "id": "unNuPB4116yI"
      }
    },
    {
      "cell_type": "code",
      "source": [
        "cat_cols = ['sector', 'country', 'repayment_interval']\n",
        "for col in cat_cols:\n",
        "    df[col] = df[col].fillna(df[col].mode()[0]).astype('category')"
      ],
      "metadata": {
        "id": "uYLej9Pc17sK"
      },
      "execution_count": 16,
      "outputs": []
    },
    {
      "cell_type": "markdown",
      "source": [
        "# 3.3 Convert date columns"
      ],
      "metadata": {
        "id": "BdYDN_ht2C2C"
      }
    },
    {
      "cell_type": "code",
      "source": [
        "df['date'] = pd.to_datetime(df['date'], errors='coerce')\n",
        "df = df[~df['date'].isna()]  # Remove rows with invalid dates"
      ],
      "metadata": {
        "id": "YMXiryEn2Dz6"
      },
      "execution_count": 17,
      "outputs": []
    },
    {
      "cell_type": "markdown",
      "source": [
        "# 3.4 Remove or cap outliers (example using quantiles)"
      ],
      "metadata": {
        "id": "XrwK7buP2KuR"
      }
    },
    {
      "cell_type": "code",
      "source": [
        "df['partner_id'].duplicated().sum()"
      ],
      "metadata": {
        "colab": {
          "base_uri": "https://localhost:8080/"
        },
        "id": "E3NdXlLxr_-7",
        "outputId": "adaba20a-e3ce-45db-8e21-f5fbda1e960d"
      },
      "execution_count": 18,
      "outputs": [
        {
          "output_type": "execute_result",
          "data": {
            "text/plain": [
              "np.int64(33279)"
            ]
          },
          "metadata": {},
          "execution_count": 18
        }
      ]
    },
    {
      "cell_type": "code",
      "source": [
        "sns.boxplot(df['lender_count'])"
      ],
      "metadata": {
        "colab": {
          "base_uri": "https://localhost:8080/",
          "height": 429
        },
        "id": "FI7R9aRoqq7d",
        "outputId": "4e0f1f9a-5192-4c0f-8548-a4bbe1cb5bc8"
      },
      "execution_count": 19,
      "outputs": [
        {
          "output_type": "execute_result",
          "data": {
            "text/plain": [
              "<Axes: ylabel='lender_count'>"
            ]
          },
          "metadata": {},
          "execution_count": 19
        },
        {
          "output_type": "display_data",
          "data": {
            "text/plain": [
              "<Figure size 640x480 with 1 Axes>"
            ],
            "image/png": "[encoded data removed]"
          },
          "metadata": {}
        }
      ]
    },
    {
      "cell_type": "code",
      "source": [
        "Q1 = df['funded_amount'].quantile(0.25)\n",
        "Q3 = df['funded_amount'].quantile(0.75)\n",
        "IQR = Q3 - Q1\n",
        "lower_bound = Q1 - 1.5 * IQR\n",
        "upper_bound = Q3 + 1.5 * IQR\n",
        "\n",
        "outliers = df[(df['funded_amount'] < lower_bound) | (df['funded_amount'] > upper_bound)]\n",
        "df['funded_amount'] = np.where(df['funded_amount'] > upper_bound, upper_bound, df['funded_amount'])\n",
        "df['funded_amount'] = np.where(df['funded_amount'] < lower_bound, lower_bound, df['funded_amount'])\n"
      ],
      "metadata": {
        "id": "uLc5KbUH2LiG"
      },
      "execution_count": 20,
      "outputs": []
    },
    {
      "cell_type": "code",
      "source": [
        "q1 = df['loan_amount'].quantile(0.25)\n",
        "q3 = df['loan_amount'].quantile(0.75)\n",
        "iqr = q3 - q1\n",
        "lowerbound = q1 - 1.5 * iqr\n",
        "upperbound = q3 + 1.5 * iqr\n",
        "\n",
        "outlier = df[(df['loan_amount'] < lowerbound) | (df['loan_amount'] > upperbound)]\n",
        "df['loan_amount'] = np.where(df['loan_amount'] > upperbound, upperbound, df['loan_amount'])\n",
        "df['loan_amount'] = np.where(df['loan_amount'] < lowerbound, lowerbound, df['loan_amount'])"
      ],
      "metadata": {
        "id": "lhf9QNnmuCGa"
      },
      "execution_count": 21,
      "outputs": []
    },
    {
      "cell_type": "code",
      "source": [
        "sns.boxplot(df['funded_amount'])"
      ],
      "metadata": {
        "colab": {
          "base_uri": "https://localhost:8080/",
          "height": 429
        },
        "id": "5QAQ9tqutzWL",
        "outputId": "4a994893-d2bb-411d-f30a-b15cdc15cfe4"
      },
      "execution_count": 22,
      "outputs": [
        {
          "output_type": "execute_result",
          "data": {
            "text/plain": [
              "<Axes: ylabel='funded_amount'>"
            ]
          },
          "metadata": {},
          "execution_count": 22
        },
        {
          "output_type": "display_data",
          "data": {
            "text/plain": [
              "<Figure size 640x480 with 1 Axes>"
            ],
            "image/png": "[encoded data removed]"
          },
          "metadata": {}
        }
      ]
    },
    {
      "cell_type": "code",
      "source": [
        "sns.boxplot(df['loan_amount'])"
      ],
      "metadata": {
        "colab": {
          "base_uri": "https://localhost:8080/",
          "height": 429
        },
        "outputId": "9ffd6536-d2b1-4a7e-e65b-51e2fbcac9c3",
        "id": "aRMuT8tSubb_"
      },
      "execution_count": 23,
      "outputs": [
        {
          "output_type": "execute_result",
          "data": {
            "text/plain": [
              "<Axes: ylabel='loan_amount'>"
            ]
          },
          "metadata": {},
          "execution_count": 23
        },
        {
          "output_type": "display_data",
          "data": {
            "text/plain": [
              "<Figure size 640x480 with 1 Axes>"
            ],
            "image/png": "[encoded data removed]"
          },
          "metadata": {}
        }
      ]
    },
    {
      "cell_type": "markdown",
      "source": [
        "# 4. Data Transformation\n",
        "# 4.1 Feature engineering: extract date parts"
      ],
      "metadata": {
        "id": "hV5kVQI532Es"
      }
    },
    {
      "cell_type": "code",
      "source": [
        "df['year'] = df['date'].dt.year\n",
        "df['month'] = df['date'].dt.month\n",
        "df['year_month'] = df['date'].dt.to_period('M')"
      ],
      "metadata": {
        "id": "KND9YY5C34sB"
      },
      "execution_count": 24,
      "outputs": []
    },
    {
      "cell_type": "code",
      "source": [
        "df['funding_ratio'] = df['funded_amount'] / df['loan_amount'].replace(0, np.nan)\n",
        "df['amount_per_lender'] = df['funded_amount'] / df['lender_count'].replace(0, np.nan)"
      ],
      "metadata": {
        "id": "B5D2PPXXNLZT"
      },
      "execution_count": 25,
      "outputs": []
    },
    {
      "cell_type": "code",
      "source": [
        "# Gender features\n",
        "df['female_only'] = (df['female_count'] > 0) & (df['male_count'] == 0)\n",
        "df['male_only'] = (df['male_count'] > 0) & (df['female_count'] == 0)\n",
        "df['mixed_gender'] = (df['female_count'] > 0) & (df['male_count'] > 0)"
      ],
      "metadata": {
        "id": "7Yt1wXXHUHWD"
      },
      "execution_count": 26,
      "outputs": []
    },
    {
      "cell_type": "markdown",
      "source": [
        "# 5. Final Exploration"
      ],
      "metadata": {
        "id": "D97flVaF4Ohd"
      }
    },
    {
      "cell_type": "code",
      "source": [
        "# 7. Final Validation\n",
        "print(\"\\nFinal validation:\")\n",
        "print(f\"Final shape: {df.shape}\")\n",
        "print(\"Missing values check:\")\n",
        "print(df.isnull().sum()[df.isnull().sum() > 0])"
      ],
      "metadata": {
        "colab": {
          "base_uri": "https://localhost:8080/"
        },
        "id": "AGEnHpDV4Pbk",
        "outputId": "e0fc3e96-ba3a-40a8-a884-662f7a6b5fbd"
      },
      "execution_count": 27,
      "outputs": [
        {
          "output_type": "stream",
          "name": "stdout",
          "text": [
            "\n",
            "Final validation:\n",
            "Final shape: (33561, 21)\n",
            "Missing values check:\n",
            "partner_id           634\n",
            "amount_per_lender    152\n",
            "dtype: int64\n"
          ]
        }
      ]
    },
    {
      "cell_type": "code",
      "source": [
        "# Check data types\n",
        "print(\"\\nData types:\")\n",
        "print(df.dtypes)"
      ],
      "metadata": {
        "colab": {
          "base_uri": "https://localhost:8080/"
        },
        "id": "xJuKKw1bUUqo",
        "outputId": "2a939c1d-c35e-46e1-dc8d-4bce7e5d8319"
      },
      "execution_count": 28,
      "outputs": [
        {
          "output_type": "stream",
          "name": "stdout",
          "text": [
            "\n",
            "Data types:\n",
            "id                             int64\n",
            "funded_amount                float64\n",
            "loan_amount                  float64\n",
            "sector                      category\n",
            "country                     category\n",
            "partner_id                   float64\n",
            "term_in_months                 int16\n",
            "lender_count                   int16\n",
            "repayment_interval          category\n",
            "date                  datetime64[ns]\n",
            "female_count                   int64\n",
            "male_count                     int64\n",
            "total_borrowers                int64\n",
            "year                           int32\n",
            "month                          int32\n",
            "year_month                 period[M]\n",
            "funding_ratio                float64\n",
            "amount_per_lender            float64\n",
            "female_only                     bool\n",
            "male_only                       bool\n",
            "mixed_gender                    bool\n",
            "dtype: object\n"
          ]
        }
      ]
    },
    {
      "cell_type": "code",
      "source": [
        "# Basic stats\n",
        "print(\"\\nNumerical columns summary:\")\n",
        "print(df[num_cols].describe())"
      ],
      "metadata": {
        "id": "j9xlZ4ftUYiq",
        "outputId": "e1c31923-d90d-4a6b-e4b3-f50eaefccdf4",
        "colab": {
          "base_uri": "https://localhost:8080/"
        }
      },
      "execution_count": 29,
      "outputs": [
        {
          "output_type": "stream",
          "name": "stdout",
          "text": [
            "\n",
            "Numerical columns summary:\n",
            "       funded_amount   loan_amount  term_in_months  lender_count\n",
            "count    33561.00000  33561.000000    33561.000000  33561.000000\n",
            "mean       642.65889    691.773934       13.691428     20.549179\n",
            "std        525.92744    567.818345        8.566574     28.514324\n",
            "min          0.00000     25.000000        1.000000      0.000000\n",
            "25%        250.00000    275.000000        8.000000      7.000000\n",
            "50%        450.00000    500.000000       13.000000     13.000000\n",
            "75%        900.00000    975.000000       14.000000     24.000000\n",
            "max       1875.00000   2025.000000      145.000000   1481.000000\n"
          ]
        }
      ]
    },
    {
      "cell_type": "markdown",
      "source": [
        "# 6. Save cleaned data"
      ],
      "metadata": {
        "id": "pwZ2yrLg4gFT"
      }
    },
    {
      "cell_type": "code",
      "source": [
        "df.to_csv('kiva_clean_powerbi.csv', index=False)\n",
        "print(\"Final shape:\", df.shape)\n",
        "print(\"Data cleaned and saved as 'kiva_loans_cleaned_final.csv'.\")"
      ],
      "metadata": {
        "colab": {
          "base_uri": "https://localhost:8080/"
        },
        "id": "bFEBbBTtOSKK",
        "outputId": "504fab8c-9f19-404e-b0dd-9ef1b591259a"
      },
      "execution_count": 31,
      "outputs": [
        {
          "output_type": "stream",
          "name": "stdout",
          "text": [
            "Final shape: (33561, 21)\n",
            "Data cleaned and saved as 'kiva_loans_cleaned_final.csv'.\n"
          ]
        }
      ]
    }
  ]
}