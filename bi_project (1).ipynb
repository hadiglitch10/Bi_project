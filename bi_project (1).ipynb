{
  "nbformat": 4,
  "nbformat_minor": 0,
  "metadata": {
    "colab": {
      "provenance": []
    },
    "kernelspec": {
      "name": "python3",
      "display_name": "Python 3"
    },
    "language_info": {
      "name": "python"
    }
  },
  "cells": [
    {
      "cell_type": "code",
      "execution_count": 105,
      "metadata": {
        "id": "e9C45xSoyxnd"
      },
      "outputs": [],
      "source": [
        "import pandas as pd\n",
        "import numpy as np\n",
        "import seaborn as sns\n",
        "from scipy.stats.mstats import winsorize"
      ]
    },
    {
      "cell_type": "code",
      "source": [
        "# Opt in to future behavior to avoid downcasting warnings\n",
        "pd.set_option('future.no_silent_downcasting', True)\n",
        "INPUT_FILE = 'masked_kiva_loans.csv'\n",
        "OUTPUT_FILE = 'kiva_loans_cleaned_ml_ready.csv'"
      ],
      "metadata": {
        "id": "5_XDYOOa3R1L"
      },
      "execution_count": 106,
      "outputs": []
    },
    {
      "cell_type": "code",
      "source": [
        "print(\"Loading data...\")\n",
        "df = pd.read_csv(INPUT_FILE, low_memory=False)\n",
        "print(f\"Initial shape: {df.shape}\\n\")"
      ],
      "metadata": {
        "colab": {
          "base_uri": "https://localhost:8080/"
        },
        "id": "JbTiYH2_z_Ue",
        "outputId": "69072346-528e-421d-c5ce-388bab188470"
      },
      "execution_count": 107,
      "outputs": [
        {
          "output_type": "stream",
          "name": "stdout",
          "text": [
            "Loading data...\n",
            "Initial shape: (33561, 11)\n",
            "\n"
          ]
        }
      ]
    },
    {
      "cell_type": "code",
      "source": [
        "# 1. Initial Assessment\n",
        "print(\"Initial missing values:\")\n",
        "print(df.isnull().sum().sort_values(ascending=False)[:10], \"\\n\")\n"
      ],
      "metadata": {
        "colab": {
          "base_uri": "https://localhost:8080/"
        },
        "id": "-SRHymjo0S0C",
        "outputId": "8dcd6f6f-a9ea-46f8-c4c5-97d2ed1a3e74"
      },
      "execution_count": 108,
      "outputs": [
        {
          "output_type": "stream",
          "name": "stdout",
          "text": [
            "Initial missing values:\n",
            "partner_id            634\n",
            "borrower_genders      195\n",
            "id                      0\n",
            "loan_amount             0\n",
            "funded_amount           0\n",
            "country                 0\n",
            "sector                  0\n",
            "term_in_months          0\n",
            "lender_count            0\n",
            "repayment_interval      0\n",
            "dtype: int64 \n",
            "\n"
          ]
        }
      ]
    },
    {
      "cell_type": "markdown",
      "source": [
        "# 3. Data Cleaning\n",
        "# 3.1 Drop duplicate rows if any"
      ],
      "metadata": {
        "id": "JzWkxUGX0iU4"
      }
    },
    {
      "cell_type": "code",
      "source": [
        "print(\"Dropping duplicates...\")\n",
        "prev_size = len(df)\n",
        "df.drop_duplicates(inplace=True)\n",
        "print(f\"Removed {prev_size - len(df)} duplicates\\n\")"
      ],
      "metadata": {
        "colab": {
          "base_uri": "https://localhost:8080/"
        },
        "id": "8zoHw7Q-0hsx",
        "outputId": "6c890691-c3c1-4328-81c3-77c34d6de6d9"
      },
      "execution_count": 109,
      "outputs": [
        {
          "output_type": "stream",
          "name": "stdout",
          "text": [
            "Dropping duplicates...\n",
            "Removed 0 duplicates\n",
            "\n"
          ]
        }
      ]
    },
    {
      "cell_type": "code",
      "source": [
        "# 3. Column Selection (Keep only relevant columns)\n",
        "keep_cols = [\n",
        "    'id', 'funded_amount', 'loan_amount', 'sector', 'country',\n",
        "    'partner_id', 'term_in_months', 'lender_count', 'borrower_genders',\n",
        "    'repayment_interval', 'date'\n",
        "]\n",
        "df = df[keep_cols]"
      ],
      "metadata": {
        "id": "fl5I3sH7TUHA"
      },
      "execution_count": 110,
      "outputs": []
    },
    {
      "cell_type": "markdown",
      "source": [
        "# 3.2 Handle missing values\n",
        "# - If columns have too many missing values, consider dropping\n",
        "# - Otherwise impute or fill"
      ],
      "metadata": {
        "id": "TiGGtCD200S6"
      }
    },
    {
      "cell_type": "code",
      "source": [
        "print(\"Handling missing values:\")"
      ],
      "metadata": {
        "colab": {
          "base_uri": "https://localhost:8080/"
        },
        "id": "by4MaqfV02we",
        "outputId": "1f04a851-3354-4bb7-9604-5a0e74ca508c"
      },
      "execution_count": 111,
      "outputs": [
        {
          "output_type": "stream",
          "name": "stdout",
          "text": [
            "Handling missing values:\n"
          ]
        }
      ]
    },
    {
      "cell_type": "markdown",
      "source": [
        "#  Process borrower_genders column: count number of female and male"
      ],
      "metadata": {
        "id": "feWxqgpz8R_1"
      }
    },
    {
      "cell_type": "code",
      "source": [
        "df['borrower_genders'] = df['borrower_genders'].str.lower().fillna('unknown')\n",
        "df['female_count'] = df['borrower_genders'].str.split(',').apply(\n",
        "    lambda x: sum('female' in g.strip() for g in x) if isinstance(x, list) else 0)\n",
        "df['male_count'] = df['borrower_genders'].str.split(',').apply(\n",
        "    lambda x: sum('male' in g.strip() for g in x) if isinstance(x, list) else 0)\n",
        "df['total_borrowers'] = df['female_count'] + df['male_count']"
      ],
      "metadata": {
        "id": "fAiAKds98bIi"
      },
      "execution_count": 112,
      "outputs": []
    },
    {
      "cell_type": "markdown",
      "source": [
        "# For numerical columns, fill with median"
      ],
      "metadata": {
        "id": "rkmyEEhj1UgQ"
      }
    },
    {
      "cell_type": "code",
      "source": [
        "num_cols = ['funded_amount', 'loan_amount', 'term_in_months', 'lender_count']\n",
        "for col in num_cols:\n",
        "    df[col] = df[col].fillna(df[col].median())\n",
        "    # Convert to appropriate numeric types\n",
        "    if col in ['lender_count', 'term_in_months']:\n",
        "        df[col] = pd.to_numeric(df[col], downcast='integer')\n",
        "    else:\n",
        "        df[col] = pd.to_numeric(df[col], downcast='float')"
      ],
      "metadata": {
        "id": "3wpJRGLP1YgH"
      },
      "execution_count": 113,
      "outputs": []
    },
    {
      "cell_type": "markdown",
      "source": [
        "# For categorical columns, fill with mode"
      ],
      "metadata": {
        "id": "unNuPB4116yI"
      }
    },
    {
      "cell_type": "code",
      "source": [
        "cat_cols = ['sector', 'country', 'repayment_interval']\n",
        "for col in cat_cols:\n",
        "    df[col] = df[col].fillna(df[col].mode()[0]).astype('category')"
      ],
      "metadata": {
        "id": "uYLej9Pc17sK"
      },
      "execution_count": 114,
      "outputs": []
    },
    {
      "cell_type": "markdown",
      "source": [
        "# 3.3 Convert date columns"
      ],
      "metadata": {
        "id": "BdYDN_ht2C2C"
      }
    },
    {
      "cell_type": "code",
      "source": [
        "df['date'] = pd.to_datetime(df['date'], errors='coerce')\n",
        "df = df[~df['date'].isna()]  # Remove rows with invalid dates"
      ],
      "metadata": {
        "id": "YMXiryEn2Dz6"
      },
      "execution_count": 115,
      "outputs": []
    },
    {
      "cell_type": "markdown",
      "source": [
        "# 3.4 Remove or cap outliers (example using quantiles)"
      ],
      "metadata": {
        "id": "XrwK7buP2KuR"
      }
    },
    {
      "cell_type": "code",
      "source": [
        "df['partner_id'].duplicated().sum()"
      ],
      "metadata": {
        "colab": {
          "base_uri": "https://localhost:8080/"
        },
        "id": "E3NdXlLxr_-7",
        "outputId": "59a7ffe3-90ab-458d-aef1-9b47caa3e302"
      },
      "execution_count": 116,
      "outputs": [
        {
          "output_type": "execute_result",
          "data": {
            "text/plain": [
              "np.int64(33279)"
            ]
          },
          "metadata": {},
          "execution_count": 116
        }
      ]
    },
    {
      "cell_type": "code",
      "source": [
        "df.drop(columns=['partner_id'], inplace=True)"
      ],
      "metadata": {
        "id": "kzD801VM2Tbl"
      },
      "execution_count": 117,
      "outputs": []
    },
    {
      "cell_type": "code",
      "source": [
        "Q1 = df['funded_amount'].quantile(0.25)\n",
        "Q3 = df['funded_amount'].quantile(0.75)\n",
        "IQR = Q3 - Q1\n",
        "lower_bound = Q1 - 1.5 * IQR\n",
        "upper_bound = Q3 + 1.5 * IQR\n",
        "\n",
        "outliers = df[(df['funded_amount'] < lower_bound) | (df['funded_amount'] > upper_bound)]\n",
        "df['funded_amount'] = np.where(df['funded_amount'] > upper_bound, upper_bound, df['funded_amount'])\n",
        "df['funded_amount'] = np.where(df['funded_amount'] < lower_bound, lower_bound, df['funded_amount'])\n"
      ],
      "metadata": {
        "id": "uLc5KbUH2LiG"
      },
      "execution_count": 118,
      "outputs": []
    },
    {
      "cell_type": "code",
      "source": [
        "q1 = df['loan_amount'].quantile(0.25)\n",
        "q3 = df['loan_amount'].quantile(0.75)\n",
        "iqr = q3 - q1\n",
        "lowerbound = q1 - 1.5 * iqr\n",
        "upperbound = q3 + 1.5 * iqr\n",
        "\n",
        "outlier = df[(df['loan_amount'] < lowerbound) | (df['loan_amount'] > upperbound)]\n",
        "df['loan_amount'] = np.where(df['loan_amount'] > upperbound, upperbound, df['loan_amount'])\n",
        "df['loan_amount'] = np.where(df['loan_amount'] < lowerbound, lowerbound, df['loan_amount'])"
      ],
      "metadata": {
        "id": "lhf9QNnmuCGa"
      },
      "execution_count": 119,
      "outputs": []
    },
    {
      "cell_type": "code",
      "source": [
        "Q2 = df['term_in_months'].quantile(0.25)\n",
        "Q4 = df['term_in_months'].quantile(0.75)\n",
        "IQR2 = Q4 - Q2\n",
        "lower = Q2 - 1.5 * IQR2\n",
        "upper = Q4 + 1.5 * IQR2\n",
        "\n",
        "outl = df[(df['term_in_months'] < lower) | (df['term_in_months'] > upper)]\n",
        "df['term_in_months'] = np.where(df['term_in_months'] > upper, upper, df['term_in_months'])\n",
        "df['term_in_months'] = np.where(df['term_in_months'] < lower, lower, df['term_in_months'])"
      ],
      "metadata": {
        "id": "mvFOARwgxlES"
      },
      "execution_count": 120,
      "outputs": []
    },
    {
      "cell_type": "code",
      "source": [
        "q2 = df['lender_count'].quantile(0.25)\n",
        "q4 = df['lender_count'].quantile(0.75)\n",
        "iqr2 = q4 - q2\n",
        "low = q2 - 1.5 * iqr2\n",
        "upp = q4 + 1.5 * iqr2\n",
        "\n",
        "out = df[(df['lender_count'] < low) | (df['lender_count'] > upp)]\n",
        "df['lender_count'] = np.where(df['lender_count'] > upp, upp, df['lender_count'])\n",
        "df['lender_count'] = np.where(df['lender_count'] < low, low, df['lender_count'])"
      ],
      "metadata": {
        "id": "mY_Beo_rxl6I"
      },
      "execution_count": 121,
      "outputs": []
    },
    {
      "cell_type": "markdown",
      "source": [
        "# 4. Data Transformation\n",
        "# 4.1 Feature engineering: extract date parts"
      ],
      "metadata": {
        "id": "hV5kVQI532Es"
      }
    },
    {
      "cell_type": "code",
      "source": [
        "df['year'] = df['date'].dt.year\n",
        "df['month'] = df['date'].dt.month\n",
        "df['year_month'] = df['date'].dt.to_period('M')"
      ],
      "metadata": {
        "id": "KND9YY5C34sB"
      },
      "execution_count": 122,
      "outputs": []
    },
    {
      "cell_type": "code",
      "source": [
        "df['funding_ratio'] = df['funded_amount'] / df['loan_amount'].replace(0, np.nan)\n",
        "df['amount_per_lender'] = df['funded_amount'] / df['lender_count'].replace(0, np.nan)"
      ],
      "metadata": {
        "id": "B5D2PPXXNLZT"
      },
      "execution_count": 123,
      "outputs": []
    },
    {
      "cell_type": "code",
      "source": [
        "# Gender features\n",
        "df['female_only'] = (df['female_count'] > 0) & (df['male_count'] == 0)\n",
        "df['male_only'] = (df['male_count'] > 0) & (df['female_count'] == 0)\n",
        "df['mixed_gender'] = (df['female_count'] > 0) & (df['male_count'] > 0)"
      ],
      "metadata": {
        "id": "7Yt1wXXHUHWD"
      },
      "execution_count": 124,
      "outputs": []
    },
    {
      "cell_type": "markdown",
      "source": [
        "# 5. Final Exploration"
      ],
      "metadata": {
        "id": "D97flVaF4Ohd"
      }
    },
    {
      "cell_type": "code",
      "source": [
        "# 7. Final Validation\n",
        "print(\"\\nFinal validation:\")\n",
        "print(f\"Final shape: {df.shape}\")\n",
        "print(\"Missing values check:\")\n",
        "print(df.isnull().sum()[df.isnull().sum() > 0])"
      ],
      "metadata": {
        "colab": {
          "base_uri": "https://localhost:8080/"
        },
        "id": "AGEnHpDV4Pbk",
        "outputId": "a6325316-2963-455f-f0b7-4fd77a05daa5"
      },
      "execution_count": 125,
      "outputs": [
        {
          "output_type": "stream",
          "name": "stdout",
          "text": [
            "\n",
            "Final validation:\n",
            "Final shape: (33561, 21)\n",
            "Missing values check:\n",
            "amount_per_lender    152\n",
            "dtype: int64\n"
          ]
        }
      ]
    },
    {
      "cell_type": "code",
      "source": [
        "# Check data types\n",
        "print(\"\\nData types:\")\n",
        "print(df.dtypes)"
      ],
      "metadata": {
        "colab": {
          "base_uri": "https://localhost:8080/"
        },
        "id": "xJuKKw1bUUqo",
        "outputId": "d72a4d25-1160-4e10-ed27-028fa2dd6238"
      },
      "execution_count": 126,
      "outputs": [
        {
          "output_type": "stream",
          "name": "stdout",
          "text": [
            "\n",
            "Data types:\n",
            "id                             int64\n",
            "funded_amount                float64\n",
            "loan_amount                  float64\n",
            "sector                      category\n",
            "country                     category\n",
            "term_in_months               float64\n",
            "lender_count                 float64\n",
            "borrower_genders              object\n",
            "repayment_interval          category\n",
            "date                  datetime64[ns]\n",
            "female_count                   int64\n",
            "male_count                     int64\n",
            "total_borrowers                int64\n",
            "year                           int32\n",
            "month                          int32\n",
            "year_month                 period[M]\n",
            "funding_ratio                float64\n",
            "amount_per_lender            float64\n",
            "female_only                     bool\n",
            "male_only                       bool\n",
            "mixed_gender                    bool\n",
            "dtype: object\n"
          ]
        }
      ]
    },
    {
      "cell_type": "code",
      "source": [
        "# Basic stats\n",
        "print(\"\\nNumerical columns summary:\")\n",
        "print(df[num_cols].describe())"
      ],
      "metadata": {
        "id": "j9xlZ4ftUYiq",
        "outputId": "18f0651c-c028-4f03-e9c7-d1c75600dd06",
        "colab": {
          "base_uri": "https://localhost:8080/"
        }
      },
      "execution_count": 127,
      "outputs": [
        {
          "output_type": "stream",
          "name": "stdout",
          "text": [
            "\n",
            "Numerical columns summary:\n",
            "       funded_amount   loan_amount  term_in_months  lender_count\n",
            "count    33561.00000  33561.000000    33561.000000  33561.000000\n",
            "mean       642.65889    691.773934       12.683889     17.448854\n",
            "std        525.92744    567.818345        5.061591     14.193749\n",
            "min          0.00000     25.000000        1.000000      0.000000\n",
            "25%        250.00000    275.000000        8.000000      7.000000\n",
            "50%        450.00000    500.000000       13.000000     13.000000\n",
            "75%        900.00000    975.000000       14.000000     24.000000\n",
            "max       1875.00000   2025.000000       23.000000     49.500000\n"
          ]
        }
      ]
    },
    {
      "cell_type": "markdown",
      "source": [
        "# 6. Save cleaned data"
      ],
      "metadata": {
        "id": "pwZ2yrLg4gFT"
      }
    },
    {
      "cell_type": "code",
      "source": [
        "df.to_csv('kiva_loans_cleaned_final.csv', index=False)\n",
        "print(\"Final shape:\", df.shape)\n",
        "print(\"Data cleaned and saved as 'kiva_loans_cleaned_final.csv'.\")"
      ],
      "metadata": {
        "colab": {
          "base_uri": "https://localhost:8080/"
        },
        "id": "bFEBbBTtOSKK",
        "outputId": "fdbe8ac6-0df0-48ff-f116-13cc726d3223"
      },
      "execution_count": 128,
      "outputs": [
        {
          "output_type": "stream",
          "name": "stdout",
          "text": [
            "Final shape: (33561, 21)\n",
            "Data cleaned and saved as 'kiva_loans_cleaned_final.csv'.\n"
          ]
        }
      ]
    }
  ]
}